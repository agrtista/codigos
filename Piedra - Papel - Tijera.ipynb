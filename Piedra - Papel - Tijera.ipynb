{
 "cells": [
  {
   "cell_type": "code",
   "execution_count": null,
   "id": "8cc34f0c",
   "metadata": {},
   "outputs": [],
   "source": [
    "import random\n",
    "\n",
    "resp = int(input('What do you choose? Type 0 for Rock, 1 for Paper or 2 for Scissors.\\n'))\n",
    "opciones = ['Piedra', 'Papel', 'Tijera']\n",
    "\n",
    "print(f'Elegiste: {opciones[resp]}')\n",
    "\n",
    "respmac = opciones[random.randint(0,2)]\n",
    "print(f'La Maquina eligió: {respmac}')\n",
    "\n",
    "if resp == 0 and respmac == 0:\n",
    "    print('Empate')\n",
    "if resp == 0 and respmac == 1:\n",
    "    print('Perdiste')\n",
    "if resp == 0 and respmac == 2:\n",
    "    print('Ganaste')\n",
    "if resp == 1 and respmac == 0:\n",
    "    print('Ganaste')\n",
    "if resp == 1 and respmac == 1:\n",
    "    print('Empate')\n",
    "if resp == 1 and respmac == 2:\n",
    "    print('Perdiste')\n",
    "if resp == 2 and respmac == 0:\n",
    "    print('Perdiste')\n",
    "if resp == 2 and respmac == 1:\n",
    "    print('Ganaste')\n",
    "if resp == 2 and respmac == 2:\n",
    "    print('Empate')\n",
    "else: \n",
    "    print('NO')"
   ]
  }
 ],
 "metadata": {
  "kernelspec": {
   "display_name": "Python 3 (ipykernel)",
   "language": "python",
   "name": "python3"
  },
  "language_info": {
   "codemirror_mode": {
    "name": "ipython",
    "version": 3
   },
   "file_extension": ".py",
   "mimetype": "text/x-python",
   "name": "python",
   "nbconvert_exporter": "python",
   "pygments_lexer": "ipython3",
   "version": "3.9.13"
  }
 },
 "nbformat": 4,
 "nbformat_minor": 5
}
