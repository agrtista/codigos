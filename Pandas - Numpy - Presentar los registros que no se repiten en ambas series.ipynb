{
 "cells": [
  {
   "cell_type": "code",
   "execution_count": 18,
   "id": "38922f90",
   "metadata": {},
   "outputs": [
    {
     "data": {
      "text/plain": [
       "0     1\n",
       "2     3\n",
       "4     5\n",
       "5     6\n",
       "6     8\n",
       "7    10\n",
       "dtype: int64"
      ]
     },
     "execution_count": 18,
     "metadata": {},
     "output_type": "execute_result"
    }
   ],
   "source": [
    "import pandas as pd\n",
    "import numpy as np\n",
    "\n",
    "serie1 = pd.Series([1,2,3,4,5])\n",
    "\n",
    "serie2 = pd.Series([2,4,6,8,10])\n",
    "\n",
    "union = pd.Series(np.union1d(serie1,serie2))\n",
    "\n",
    "intersectar = pd.Series(np.intersect1d(serie1, serie2))\n",
    "\n",
    "serie3 = union[~union.isin(intersectar)]\n",
    "\n",
    "serie3"
   ]
  },
  {
   "cell_type": "code",
   "execution_count": null,
   "id": "644ee082",
   "metadata": {},
   "outputs": [],
   "source": []
  }
 ],
 "metadata": {
  "kernelspec": {
   "display_name": "Python 3 (ipykernel)",
   "language": "python",
   "name": "python3"
  },
  "language_info": {
   "codemirror_mode": {
    "name": "ipython",
    "version": 3
   },
   "file_extension": ".py",
   "mimetype": "text/x-python",
   "name": "python",
   "nbconvert_exporter": "python",
   "pygments_lexer": "ipython3",
   "version": "3.9.13"
  }
 },
 "nbformat": 4,
 "nbformat_minor": 5
}
