{
 "cells": [
  {
   "cell_type": "markdown",
   "id": "5034e962",
   "metadata": {},
   "source": [
    "5 muestras de una población de 100, en donde su media es 10 y si desviación estandar es de 2"
   ]
  },
  {
   "cell_type": "code",
   "execution_count": 17,
   "id": "b0cd0c9b",
   "metadata": {},
   "outputs": [
    {
     "data": {
      "text/plain": [
       "0     6.500469\n",
       "1    10.685361\n",
       "2    12.306072\n",
       "3     9.495128\n",
       "4    11.962642\n",
       "dtype: float64"
      ]
     },
     "execution_count": 17,
     "metadata": {},
     "output_type": "execute_result"
    }
   ],
   "source": [
    "import pandas as pd\n",
    "import numpy as np\n",
    "\n",
    "x = np.random.RandomState(100)\n",
    "\n",
    "serie = pd.Series(x.normal(10, 2, 5))\n",
    "\n",
    "serie\n"
   ]
  }
 ],
 "metadata": {
  "kernelspec": {
   "display_name": "Python 3 (ipykernel)",
   "language": "python",
   "name": "python3"
  },
  "language_info": {
   "codemirror_mode": {
    "name": "ipython",
    "version": 3
   },
   "file_extension": ".py",
   "mimetype": "text/x-python",
   "name": "python",
   "nbconvert_exporter": "python",
   "pygments_lexer": "ipython3",
   "version": "3.9.13"
  }
 },
 "nbformat": 4,
 "nbformat_minor": 5
}
