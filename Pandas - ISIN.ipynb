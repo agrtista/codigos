{
 "cells": [
  {
   "cell_type": "markdown",
   "id": "caf2a6a4",
   "metadata": {},
   "source": [
    "MUESTRA LOS REGISTROS DEL PRIMERO QUE NO ESTÁN EN EL SEGUNDO"
   ]
  },
  {
   "cell_type": "code",
   "execution_count": 1,
   "id": "132a3b8d",
   "metadata": {},
   "outputs": [
    {
     "data": {
      "text/plain": [
       "0    1\n",
       "2    3\n",
       "4    5\n",
       "dtype: int64"
      ]
     },
     "execution_count": 1,
     "metadata": {},
     "output_type": "execute_result"
    }
   ],
   "source": [
    "import pandas as pd\n",
    "\n",
    "serie1 = pd.Series([1,2,3,4,5])\n",
    "\n",
    "serie2 = pd.Series([2,4,6,8,10])\n",
    "\n",
    "serie3 = serie1[~serie1.isin(serie2)]\n",
    "\n",
    "serie3"
   ]
  }
 ],
 "metadata": {
  "kernelspec": {
   "display_name": "Python 3 (ipykernel)",
   "language": "python",
   "name": "python3"
  },
  "language_info": {
   "codemirror_mode": {
    "name": "ipython",
    "version": 3
   },
   "file_extension": ".py",
   "mimetype": "text/x-python",
   "name": "python",
   "nbconvert_exporter": "python",
   "pygments_lexer": "ipython3",
   "version": "3.9.13"
  }
 },
 "nbformat": 4,
 "nbformat_minor": 5
}
