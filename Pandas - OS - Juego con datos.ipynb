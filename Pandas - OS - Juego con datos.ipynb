{
 "cells": [
  {
   "cell_type": "code",
   "execution_count": 123,
   "id": "b6dc8813",
   "metadata": {
    "scrolled": true
   },
   "outputs": [
    {
     "name": "stdout",
     "output_type": "stream",
     "text": [
      "Only directories:\n",
      "['.azuredatastudio', '.conda', '.continuum', '.idlerc', '.ipynb_checkpoints', '.ipython', '.jupyter', '.matplotlib', '.vscode', '3D Objects', 'Anaconda3', 'AppData', 'Application Data', 'Contacts', 'Cookies', 'Desktop', 'Documents', 'Downloads', 'Favorites', 'IntelGraphicsProfiles', 'Links', 'Local Settings', 'Microsoft', 'Music', 'My Documents', 'NetHood', 'OneDrive', 'OneDrive - Viva Resorts', 'output', 'PrintHood', 'Recent', 'Saved Games', 'Searches', 'SendTo', 'Start Menu', 'Templates', 'Videos']\n",
      "\n",
      "Only files:\n",
      "['(New) Alberto Diciembre - 2022.xlsx', '.bash_history', '.condarc', '.gitconfig', 'Cosa', 'get-member', 'Listado de Cancelacion.csv', 'New Microsoft Excel Worksheet.xlsx', 'NTUSER.DAT', 'ntuser.dat.LOG1', 'ntuser.dat.LOG2', 'NTUSER.DAT{de6a92b1-2ef5-11ec-81f4-d08e7912760f}.TxR.0.regtrans-ms', 'NTUSER.DAT{de6a92b1-2ef5-11ec-81f4-d08e7912760f}.TxR.1.regtrans-ms', 'NTUSER.DAT{de6a92b1-2ef5-11ec-81f4-d08e7912760f}.TxR.2.regtrans-ms', 'NTUSER.DAT{de6a92b1-2ef5-11ec-81f4-d08e7912760f}.TxR.blf', 'NTUSER.DAT{de6a92b2-2ef5-11ec-81f4-d08e7912760f}.TM.blf', 'NTUSER.DAT{de6a92b2-2ef5-11ec-81f4-d08e7912760f}.TMContainer00000000000000000001.regtrans-ms', 'NTUSER.DAT{de6a92b2-2ef5-11ec-81f4-d08e7912760f}.TMContainer00000000000000000002.regtrans-ms', 'ntuser.ini', 'Sort-Object', 'Streamers.db', 'Untitled.ipynb']\n",
      "\n",
      "All directories and files :\n",
      "['(New) Alberto Diciembre - 2022.xlsx', '.azuredatastudio', '.bash_history', '.conda', '.condarc', '.continuum', '.gitconfig', '.idlerc', '.ipynb_checkpoints', '.ipython', '.jupyter', '.matplotlib', '.vscode', '3D Objects', 'Anaconda3', 'AppData', 'Application Data', 'Contacts', 'Cookies', 'Cosa', 'Desktop', 'Documents', 'Downloads', 'Favorites', 'get-member', 'IntelGraphicsProfiles', 'Links', 'Listado de Cancelacion.csv', 'Local Settings', 'Microsoft', 'Music', 'My Documents', 'NetHood', 'New Microsoft Excel Worksheet.xlsx', 'NTUSER.DAT', 'ntuser.dat.LOG1', 'ntuser.dat.LOG2', 'NTUSER.DAT{de6a92b1-2ef5-11ec-81f4-d08e7912760f}.TxR.0.regtrans-ms', 'NTUSER.DAT{de6a92b1-2ef5-11ec-81f4-d08e7912760f}.TxR.1.regtrans-ms', 'NTUSER.DAT{de6a92b1-2ef5-11ec-81f4-d08e7912760f}.TxR.2.regtrans-ms', 'NTUSER.DAT{de6a92b1-2ef5-11ec-81f4-d08e7912760f}.TxR.blf', 'NTUSER.DAT{de6a92b2-2ef5-11ec-81f4-d08e7912760f}.TM.blf', 'NTUSER.DAT{de6a92b2-2ef5-11ec-81f4-d08e7912760f}.TMContainer00000000000000000001.regtrans-ms', 'NTUSER.DAT{de6a92b2-2ef5-11ec-81f4-d08e7912760f}.TMContainer00000000000000000002.regtrans-ms', 'ntuser.ini', 'OneDrive', 'OneDrive - Viva Resorts', 'output', 'PrintHood', 'Recent', 'Saved Games', 'Searches', 'SendTo', 'Sort-Object', 'Start Menu', 'Streamers.db', 'Templates', 'Untitled.ipynb', 'Videos']\n"
     ]
    }
   ],
   "source": [
    "import os\n",
    "path = 'C:\\\\Users\\\\srodriguez\\\\'\n",
    "print(\"Only directories:\")\n",
    "print([ name for name in os.listdir(path) if os.path.isdir(os.path.join(path, name)) ])\n",
    "print(\"\\nOnly files:\")\n",
    "print([ name for name in os.listdir(path) if not os.path.isdir(os.path.join(path, name)) ])\n",
    "print(\"\\nAll directories and files :\")\n",
    "print([ name for name in os.listdir(path)])"
   ]
  },
  {
   "cell_type": "code",
   "execution_count": 141,
   "id": "85eeb712",
   "metadata": {},
   "outputs": [
    {
     "data": {
      "text/html": [
       "<div>\n",
       "<style scoped>\n",
       "    .dataframe tbody tr th:only-of-type {\n",
       "        vertical-align: middle;\n",
       "    }\n",
       "\n",
       "    .dataframe tbody tr th {\n",
       "        vertical-align: top;\n",
       "    }\n",
       "\n",
       "    .dataframe thead th {\n",
       "        text-align: right;\n",
       "    }\n",
       "</style>\n",
       "<table border=\"1\" class=\"dataframe\">\n",
       "  <thead>\n",
       "    <tr style=\"text-align: right;\">\n",
       "      <th></th>\n",
       "      <th>A</th>\n",
       "    </tr>\n",
       "  </thead>\n",
       "  <tbody>\n",
       "    <tr>\n",
       "      <th>1</th>\n",
       "      <td>The Legend of Zelda</td>\n",
       "    </tr>\n",
       "    <tr>\n",
       "      <th>11</th>\n",
       "      <td>AppData</td>\n",
       "    </tr>\n",
       "  </tbody>\n",
       "</table>\n",
       "</div>"
      ],
      "text/plain": [
       "                      A\n",
       "1   The Legend of Zelda\n",
       "11              AppData"
      ]
     },
     "execution_count": 141,
     "metadata": {},
     "output_type": "execute_result"
    }
   ],
   "source": [
    "import pandas as pd\n",
    "\n",
    "df = pd.DataFrame({\"Only directories\":[ name for name in os.listdir(path) if os.path.isdir(os.path.join(path, name)) ]})\n",
    "\n",
    "df.columns=['A'] #Se cambia el nombre de la columna\n",
    "\n",
    "df['A']=df['A'].replace('.conda', 'The Legend of Zelda') #Se intercambia un registro de la columna por otro\n",
    "\n",
    "df.rename(columns={'A':'B'}) #Se intercambia el nombre de la columna por otro\n",
    "\n",
    "df=df[(df['A']=='The Legend of Zelda') | (df['A']=='AppData')] #Se cambia el nombre de la columna\n",
    "df"
   ]
  },
  {
   "cell_type": "code",
   "execution_count": null,
   "id": "d4a84bb1",
   "metadata": {},
   "outputs": [],
   "source": []
  }
 ],
 "metadata": {
  "kernelspec": {
   "display_name": "Python 3 (ipykernel)",
   "language": "python",
   "name": "python3"
  },
  "language_info": {
   "codemirror_mode": {
    "name": "ipython",
    "version": 3
   },
   "file_extension": ".py",
   "mimetype": "text/x-python",
   "name": "python",
   "nbconvert_exporter": "python",
   "pygments_lexer": "ipython3",
   "version": "3.9.13"
  }
 },
 "nbformat": 4,
 "nbformat_minor": 5
}
