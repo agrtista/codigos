{
 "cells": [
  {
   "cell_type": "code",
   "execution_count": 1,
   "id": "42acbe32",
   "metadata": {},
   "outputs": [
    {
     "data": {
      "text/html": [
       "<div>\n",
       "<style scoped>\n",
       "    .dataframe tbody tr th:only-of-type {\n",
       "        vertical-align: middle;\n",
       "    }\n",
       "\n",
       "    .dataframe tbody tr th {\n",
       "        vertical-align: top;\n",
       "    }\n",
       "\n",
       "    .dataframe thead th {\n",
       "        text-align: right;\n",
       "    }\n",
       "</style>\n",
       "<table border=\"1\" class=\"dataframe\">\n",
       "  <thead>\n",
       "    <tr style=\"text-align: right;\">\n",
       "      <th></th>\n",
       "      <th>Nombre</th>\n",
       "      <th>IDventas</th>\n",
       "      <th>Producto</th>\n",
       "    </tr>\n",
       "  </thead>\n",
       "  <tbody>\n",
       "    <tr>\n",
       "      <th>0</th>\n",
       "      <td>Albert</td>\n",
       "      <td>3</td>\n",
       "      <td>Nevera</td>\n",
       "    </tr>\n",
       "    <tr>\n",
       "      <th>1</th>\n",
       "      <td>Albert</td>\n",
       "      <td>4</td>\n",
       "      <td>Lavadora</td>\n",
       "    </tr>\n",
       "    <tr>\n",
       "      <th>2</th>\n",
       "      <td>Yefri</td>\n",
       "      <td>1</td>\n",
       "      <td>Lavadora</td>\n",
       "    </tr>\n",
       "    <tr>\n",
       "      <th>3</th>\n",
       "      <td>Yefri</td>\n",
       "      <td>4</td>\n",
       "      <td>Licuadora</td>\n",
       "    </tr>\n",
       "    <tr>\n",
       "      <th>4</th>\n",
       "      <td>Ezequiel</td>\n",
       "      <td>2</td>\n",
       "      <td>Nevera</td>\n",
       "    </tr>\n",
       "    <tr>\n",
       "      <th>5</th>\n",
       "      <td>Ezequiel</td>\n",
       "      <td>4</td>\n",
       "      <td>Nevera</td>\n",
       "    </tr>\n",
       "  </tbody>\n",
       "</table>\n",
       "</div>"
      ],
      "text/plain": [
       "     Nombre  IDventas   Producto\n",
       "0    Albert         3     Nevera\n",
       "1    Albert         4   Lavadora\n",
       "2     Yefri         1   Lavadora\n",
       "3     Yefri         4  Licuadora\n",
       "4  Ezequiel         2     Nevera\n",
       "5  Ezequiel         4     Nevera"
      ]
     },
     "execution_count": 1,
     "metadata": {},
     "output_type": "execute_result"
    }
   ],
   "source": [
    "import pandas as pd\n",
    "\n",
    "vendedores = pd.DataFrame([{'ID': 1,'Nombre': 'Albert'},\n",
    "                           {'ID': 2,'Nombre': 'Yefri'},\n",
    "                           {'ID': 3,'Nombre': 'Ezequiel'},\n",
    "                           {'ID': 4,'Nombre': 'Talón'}])\n",
    "\n",
    "ventas = pd.DataFrame([{'IDventas': 1,'Producto': 'Lavadora', 'Idvendedor': 2}, \n",
    "                       {'IDventas': 2,'Producto': 'Nevera', 'Idvendedor': 3}, \n",
    "                       {'IDventas': 3,'Producto': 'Nevera', 'Idvendedor': 1}, \n",
    "                       {'IDventas': 4,'Producto': 'Licuadora', 'Idvendedor': 2},\n",
    "                       {'IDventas': 4,'Producto': 'Nevera', 'Idvendedor': 3},\n",
    "                       {'IDventas': 4,'Producto': 'Lavadora', 'Idvendedor': 1}])\n",
    "\n",
    "tabla = pd.merge(vendedores,ventas,left_on='ID',right_on='Idvendedor')\n",
    "\n",
    "tabla.drop(['ID','Idvendedor'],axis=1)"
   ]
  }
 ],
 "metadata": {
  "kernelspec": {
   "display_name": "Python 3 (ipykernel)",
   "language": "python",
   "name": "python3"
  },
  "language_info": {
   "codemirror_mode": {
    "name": "ipython",
    "version": 3
   },
   "file_extension": ".py",
   "mimetype": "text/x-python",
   "name": "python",
   "nbconvert_exporter": "python",
   "pygments_lexer": "ipython3",
   "version": "3.9.13"
  }
 },
 "nbformat": 4,
 "nbformat_minor": 5
}
